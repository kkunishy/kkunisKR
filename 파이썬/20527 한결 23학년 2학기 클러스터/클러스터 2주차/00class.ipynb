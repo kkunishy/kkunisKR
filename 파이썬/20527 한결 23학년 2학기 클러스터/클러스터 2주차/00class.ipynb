{
 "cells": [
  {
   "cell_type": "code",
   "metadata": {
    "ExecuteTime": {
     "end_time": "2025-05-25T11:51:17.891223Z",
     "start_time": "2025-05-25T11:51:17.878995Z"
    }
   },
   "source": [
    "class warrior:\n",
    "    power=30\n",
    "    def __init__(self):\n",
    "        self.level=1\n",
    "        \n",
    "    def attack(self):\n",
    "        print(\"Boom!\")\n",
    "        \n",
    "    def info():\n",
    "        print(\"Powerful!!\")\n",
    "        \n",
    "    def retID(self):\n",
    "        return id(self)\n",
    "    \n",
    "    def levelUp(self):\n",
    "        print(\"levelUp!!\")\n",
    "        self.level+=1"
   ],
   "outputs": [],
   "execution_count": 7
  },
  {
   "cell_type": "markdown",
   "metadata": {},
   "source": []
  },
  {
   "cell_type": "code",
   "metadata": {
    "ExecuteTime": {
     "end_time": "2025-05-25T11:51:20.385685Z",
     "start_time": "2025-05-25T11:51:20.366050Z"
    }
   },
   "source": [
    "john=warrior()\n",
    "mary=warrior()\n",
    "\n",
    "john.attack()\n",
    "mary.attack()"
   ],
   "outputs": [
    {
     "name": "stdout",
     "output_type": "stream",
     "text": [
      "Boom!\n",
      "Boom!\n"
     ]
    }
   ],
   "execution_count": 8
  },
  {
   "cell_type": "code",
   "metadata": {
    "ExecuteTime": {
     "end_time": "2025-05-25T11:51:23.611875Z",
     "start_time": "2025-05-25T11:51:23.598476Z"
    }
   },
   "source": [
    "warrior.attack(john)\n",
    "john.attack()\n",
    "\n",
    "#john.info()\n",
    "\n",
    "print(id(john))\n",
    "print(john.retID())\n",
    "print(warrior.retID(john))"
   ],
   "outputs": [
    {
     "name": "stdout",
     "output_type": "stream",
     "text": [
      "Boom!\n",
      "Boom!\n",
      "2254717371824\n",
      "2254717371824\n",
      "2254717371824\n"
     ]
    }
   ],
   "execution_count": 10
  },
  {
   "cell_type": "code",
   "metadata": {
    "ExecuteTime": {
     "end_time": "2025-05-25T11:51:25.755203Z",
     "start_time": "2025-05-25T11:51:25.747249Z"
    }
   },
   "source": [
    "print(isinstance(john,warrior))\n",
    "number=7\n",
    "print(isinstance(number,int))\n",
    "print(isinstance(7,int))\n",
    "print(id(7))\n",
    "print(id(number))\n"
   ],
   "outputs": [
    {
     "name": "stdout",
     "output_type": "stream",
     "text": [
      "True\n",
      "True\n",
      "True\n",
      "2254620092912\n",
      "2254620092912\n"
     ]
    }
   ],
   "execution_count": 11
  },
  {
   "cell_type": "code",
   "metadata": {
    "ExecuteTime": {
     "end_time": "2025-05-25T11:51:27.300199Z",
     "start_time": "2025-05-25T11:51:27.294728Z"
    }
   },
   "source": [
    "print(john.power)\n",
    "print(mary.power)\n",
    "\n",
    "john.power+=10\n",
    "\n",
    "print(john.power)\n",
    "print(mary.power)\n"
   ],
   "outputs": [
    {
     "name": "stdout",
     "output_type": "stream",
     "text": [
      "30\n",
      "30\n",
      "40\n",
      "30\n"
     ]
    }
   ],
   "execution_count": 12
  },
  {
   "cell_type": "code",
   "metadata": {
    "ExecuteTime": {
     "end_time": "2025-05-25T11:52:01.652528Z",
     "start_time": "2025-05-25T11:52:01.643053Z"
    }
   },
   "source": [
    "print(john.power)\n",
    "print(mary.power)\n",
    "\n",
    "warrior.power+=20\n",
    "\n",
    "print(john.power)\n",
    "print(mary.power)"
   ],
   "outputs": [
    {
     "name": "stdout",
     "output_type": "stream",
     "text": [
      "40\n",
      "30\n",
      "40\n",
      "50\n"
     ]
    }
   ],
   "execution_count": 15
  },
  {
   "cell_type": "code",
   "metadata": {
    "ExecuteTime": {
     "end_time": "2025-05-25T11:52:03.563091Z",
     "start_time": "2025-05-25T11:52:03.554578Z"
    }
   },
   "source": [
    "print(john.level)\n",
    "print(mary.level)\n",
    "\n",
    "john.levelUp()\n",
    "\n",
    "\n",
    "print(john.level)\n",
    "print(mary.level)\n",
    "\n"
   ],
   "outputs": [
    {
     "name": "stdout",
     "output_type": "stream",
     "text": [
      "1\n",
      "1\n",
      "levelUp!!\n",
      "2\n",
      "1\n"
     ]
    }
   ],
   "execution_count": 16
  },
  {
   "cell_type": "code",
   "execution_count": null,
   "metadata": {},
   "outputs": [],
   "source": [
    "\n"
   ]
  },
  {
   "cell_type": "markdown",
   "metadata": {},
   "source": [
    "클래스\n",
    "객체\n",
    "함수 2개 이상(반환,인자)\n"
   ]
  }
 ],
 "metadata": {
  "kernelspec": {
   "display_name": "Python 3",
   "language": "python",
   "name": "python3"
  },
  "language_info": {
   "codemirror_mode": {
    "name": "ipython",
    "version": 3
   },
   "file_extension": ".py",
   "mimetype": "text/x-python",
   "name": "python",
   "nbconvert_exporter": "python",
   "pygments_lexer": "ipython3",
   "version": "3.11.4"
  },
  "orig_nbformat": 4
 },
 "nbformat": 4,
 "nbformat_minor": 2
}
