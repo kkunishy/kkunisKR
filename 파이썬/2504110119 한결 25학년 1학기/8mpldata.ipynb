{
 "cells": [
  {
   "metadata": {
    "ExecuteTime": {
     "end_time": "2025-06-09T00:21:21.020912Z",
     "start_time": "2025-06-09T00:21:21.017186Z"
    }
   },
   "cell_type": "code",
   "source": [
    "import sys\n",
    "if 'google.colab' in sys.modules:\n",
    "    !echo 'debconf debconf/frontend select Noninteractive' | debconf-set-selections\n",
    "    # 나눔 폰트를 설치합니다.\n",
    "    !sudo apt-get -qq -y install fonts-nanum\n",
    "    import matplotlib.font_manager as fm\n",
    "    font_files = fm.findSystemFonts(fontpaths=['/usr/share/fonts/truetype/nanum'])\n",
    "    for fpath in font_files:\n",
    "        fm.fontManager.addfont(fpath)"
   ],
   "id": "788a2e8b6cd5192a",
   "outputs": [],
   "execution_count": 5
  },
  {
   "metadata": {
    "ExecuteTime": {
     "end_time": "2025-06-09T00:21:20.625851Z",
     "start_time": "2025-06-09T00:21:20.623649Z"
    }
   },
   "cell_type": "code",
   "source": "",
   "id": "6e337acf14cf94e6",
   "outputs": [],
   "execution_count": null
  },
  {
   "metadata": {
    "ExecuteTime": {
     "end_time": "2025-06-09T00:21:20.716315Z",
     "start_time": "2025-06-09T00:21:20.714221Z"
    }
   },
   "cell_type": "code",
   "source": "",
   "id": "74f6543adfffdc09",
   "outputs": [],
   "execution_count": null
  },
  {
   "metadata": {},
   "cell_type": "code",
   "outputs": [],
   "execution_count": null,
   "source": "",
   "id": "9b567e07b8f8a0d2"
  }
 ],
 "metadata": {
  "kernelspec": {
   "display_name": "Python 3",
   "language": "python",
   "name": "python3"
  },
  "language_info": {
   "codemirror_mode": {
    "name": "ipython",
    "version": 2
   },
   "file_extension": ".py",
   "mimetype": "text/x-python",
   "name": "python",
   "nbconvert_exporter": "python",
   "pygments_lexer": "ipython2",
   "version": "2.7.6"
  }
 },
 "nbformat": 4,
 "nbformat_minor": 5
}
